{
  "nbformat": 4,
  "nbformat_minor": 0,
  "metadata": {
    "colab": {
      "name": "10814. 나이순 정렬",
      "provenance": [],
      "authorship_tag": "ABX9TyMGgtycuuy1DksVvMsDos4t",
      "include_colab_link": true
    },
    "kernelspec": {
      "name": "python3",
      "display_name": "Python 3"
    },
    "language_info": {
      "name": "python"
    }
  },
  "cells": [
    {
      "cell_type": "markdown",
      "metadata": {
        "id": "view-in-github",
        "colab_type": "text"
      },
      "source": [
        "<a href=\"https://colab.research.google.com/github/msyhu/algorithm/blob/master/10814_%EB%82%98%EC%9D%B4%EC%88%9C_%EC%A0%95%EB%A0%AC.ipynb\" target=\"_parent\"><img src=\"https://colab.research.google.com/assets/colab-badge.svg\" alt=\"Open In Colab\"/></a>"
      ]
    },
    {
      "cell_type": "code",
      "metadata": {
        "colab": {
          "base_uri": "https://localhost:8080/"
        },
        "id": "8p7EoAz7APBR",
        "outputId": "0fd3ffa1-6544-4a6f-c814-08dd964ca139"
      },
      "source": [
        "N = int(input())\n",
        "li = list()\n",
        "for _ in range(N):\n",
        "  age, name = input().split()\n",
        "  li.append((int(age), name))\n",
        "\n",
        "li = sorted(li, key = lambda p : p[0])\n",
        "for p in li:\n",
        "  print(p[0], p[1])"
      ],
      "execution_count": 6,
      "outputs": [
        {
          "output_type": "stream",
          "name": "stdout",
          "text": [
            "3\n",
            "21 J\n",
            "21 D\n",
            "20 S\n",
            "20 S\n",
            "21 J\n",
            "21 D\n"
          ]
        }
      ]
    }
  ]
}