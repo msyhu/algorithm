{
  "nbformat": 4,
  "nbformat_minor": 0,
  "metadata": {
    "colab": {
      "name": "백준_좌표 정렬하기.ipynb",
      "provenance": [],
      "authorship_tag": "ABX9TyO+ifLCLuKcnPlQQQqMHzNb",
      "include_colab_link": true
    },
    "kernelspec": {
      "name": "python3",
      "display_name": "Python 3"
    },
    "language_info": {
      "name": "python"
    }
  },
  "cells": [
    {
      "cell_type": "markdown",
      "metadata": {
        "id": "view-in-github",
        "colab_type": "text"
      },
      "source": [
        "<a href=\"https://colab.research.google.com/github/msyhu/algorithm/blob/master/%EB%B0%B1%EC%A4%80_%EC%A2%8C%ED%91%9C_%EC%A0%95%EB%A0%AC%ED%95%98%EA%B8%B0.ipynb\" target=\"_parent\"><img src=\"https://colab.research.google.com/assets/colab-badge.svg\" alt=\"Open In Colab\"/></a>"
      ]
    },
    {
      "cell_type": "code",
      "metadata": {
        "colab": {
          "base_uri": "https://localhost:8080/"
        },
        "id": "I1OJ7U9CDp3w",
        "outputId": "68cd04d3-ac5d-4fe3-bc9a-e572228ea185"
      },
      "source": [
        "N = int(input())\n",
        "\n",
        "li = list()\n",
        "for _ in range(N):\n",
        "  dots = input().split()\n",
        "  li.append((int(dots[0]), int(dots[1])))\n",
        "\n",
        "# li = sorted(li, key =lambda x : (x[0], x[1]))\n",
        "# key 안 써도 위와 같은 결과임. 그런데 python3 쓰면 시간 초과 뜨고, pypy3 쓰면 통과한다.\n",
        "# 정리하면, PyPy3에서는 실행시, 자주 쓰이는 코드를 캐싱하는 기능이 있기 때문에 ,\n",
        "# 즉  메모리를 조금 더 사용하여 그것들을 저장하고 있어, 실행속도를 개선할 수 있다는 것이기 때문에,\n",
        "# 간단한 코드상에서는 Python3가 메모리, 속도 측에서 우세할 수 있는 것이고,\n",
        "# 복잡한 코드(반복)을 사용하는 경우에서는 PyPy3가 우세하기 때문에\n",
        "# -> 코드 상황에 맞추어 두 구현체(PyPy3, Python3)를 적절하게 사용하는 것이 효율적이라고 할 수 있다.\n",
        "# 라고 한다.\n",
        "\n",
        "li = sorted(li)\n",
        "for dot in li:\n",
        "  print(dot[0],dot[1])"
      ],
      "execution_count": 5,
      "outputs": [
        {
          "output_type": "stream",
          "name": "stdout",
          "text": [
            "5\n",
            "3 4\n",
            "1 1\n",
            "1 -1\n",
            "2 2\n",
            "3 3\n",
            "1 -1\n",
            "1 1\n",
            "2 2\n",
            "3 3\n",
            "3 4\n"
          ]
        }
      ]
    }
  ]
}