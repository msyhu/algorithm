{
  "nbformat": 4,
  "nbformat_minor": 0,
  "metadata": {
    "colab": {
      "name": "백준_좌표 정렬하기.ipynb",
      "provenance": [],
      "authorship_tag": "ABX9TyO+GW0tiB83r6ZJPvrIS0Sj",
      "include_colab_link": true
    },
    "kernelspec": {
      "name": "python3",
      "display_name": "Python 3"
    },
    "language_info": {
      "name": "python"
    }
  },
  "cells": [
    {
      "cell_type": "markdown",
      "metadata": {
        "id": "view-in-github",
        "colab_type": "text"
      },
      "source": [
        "<a href=\"https://colab.research.google.com/github/msyhu/algorithm/blob/master/%EB%B0%B1%EC%A4%80_%EC%A2%8C%ED%91%9C_%EC%A0%95%EB%A0%AC%ED%95%98%EA%B8%B0.ipynb\" target=\"_parent\"><img src=\"https://colab.research.google.com/assets/colab-badge.svg\" alt=\"Open In Colab\"/></a>"
      ]
    },
    {
      "cell_type": "code",
      "metadata": {
        "colab": {
          "base_uri": "https://localhost:8080/"
        },
        "id": "I1OJ7U9CDp3w",
        "outputId": "68cd04d3-ac5d-4fe3-bc9a-e572228ea185"
      },
      "source": [
        "N = int(input())\n",
        "\n",
        "li = list()\n",
        "for _ in range(N):\n",
        "  dots = input().split()\n",
        "  li.append((int(dots[0]), int(dots[1])))\n",
        "\n",
        "# li = sorted(li, key =lambda x : (x[0], x[1]))\n",
        "# key 안 써도 위와 같은 결과임\n",
        "li = sorted(li)\n",
        "for dot in li:\n",
        "  print(dot[0],dot[1])"
      ],
      "execution_count": 5,
      "outputs": [
        {
          "output_type": "stream",
          "name": "stdout",
          "text": [
            "5\n",
            "3 4\n",
            "1 1\n",
            "1 -1\n",
            "2 2\n",
            "3 3\n",
            "1 -1\n",
            "1 1\n",
            "2 2\n",
            "3 3\n",
            "3 4\n"
          ]
        }
      ]
    }
  ]
}