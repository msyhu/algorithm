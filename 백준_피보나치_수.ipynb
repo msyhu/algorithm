{
  "nbformat": 4,
  "nbformat_minor": 0,
  "metadata": {
    "colab": {
      "name": "백준_피보나치 수.ipynb",
      "provenance": [],
      "authorship_tag": "ABX9TyPDzVChst08dP3FlM+3jeXO",
      "include_colab_link": true
    },
    "kernelspec": {
      "name": "python3",
      "display_name": "Python 3"
    },
    "language_info": {
      "name": "python"
    }
  },
  "cells": [
    {
      "cell_type": "markdown",
      "metadata": {
        "id": "view-in-github",
        "colab_type": "text"
      },
      "source": [
        "<a href=\"https://colab.research.google.com/github/msyhu/algorithm/blob/master/%EB%B0%B1%EC%A4%80_%ED%94%BC%EB%B3%B4%EB%82%98%EC%B9%98_%EC%88%98.ipynb\" target=\"_parent\"><img src=\"https://colab.research.google.com/assets/colab-badge.svg\" alt=\"Open In Colab\"/></a>"
      ]
    },
    {
      "cell_type": "markdown",
      "metadata": {
        "id": "YW6N60HfI8x_"
      },
      "source": [
        "# 백준_피보나치 수"
      ]
    },
    {
      "cell_type": "code",
      "metadata": {
        "colab": {
          "base_uri": "https://localhost:8080/"
        },
        "id": "gLj9ZroNI4tE",
        "outputId": "0ff447a3-6b6e-48b0-c6e4-25fa5b086311"
      },
      "source": [
        "def fibbonaci(n):\n",
        "    if li[n] == 0 and n > 0:\n",
        "      li[n] = fibbonaci(n-2) + fibbonaci(n-1)\n",
        "\n",
        "    return li[n]\n",
        "\n",
        "\n",
        "n = int(input())\n",
        "li = [0] * 46\n",
        "li[0] = 0\n",
        "li[1] = 1\n",
        "print(fibbonaci(n))"
      ],
      "execution_count": 10,
      "outputs": [
        {
          "output_type": "stream",
          "name": "stdout",
          "text": [
            "45\n",
            "1134903170\n"
          ]
        }
      ]
    }
  ]
}