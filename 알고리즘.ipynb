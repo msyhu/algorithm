{
  "nbformat": 4,
  "nbformat_minor": 0,
  "metadata": {
    "colab": {
      "name": "알고리즘",
      "provenance": [],
      "collapsed_sections": [],
      "authorship_tag": "ABX9TyN5JBgM4VvbKcurSzp+Q06w",
      "include_colab_link": true
    },
    "kernelspec": {
      "name": "python3",
      "display_name": "Python 3"
    },
    "language_info": {
      "name": "python"
    }
  },
  "cells": [
    {
      "cell_type": "markdown",
      "metadata": {
        "id": "view-in-github",
        "colab_type": "text"
      },
      "source": [
        "<a href=\"https://colab.research.google.com/github/msyhu/algorithm/blob/master/%EC%95%8C%EA%B3%A0%EB%A6%AC%EC%A6%98.ipynb\" target=\"_parent\"><img src=\"https://colab.research.google.com/assets/colab-badge.svg\" alt=\"Open In Colab\"/></a>"
      ]
    },
    {
      "cell_type": "markdown",
      "metadata": {
        "id": "NfZxnxTyIBy0"
      },
      "source": [
        "# 2920. 음계"
      ]
    },
    {
      "cell_type": "code",
      "metadata": {
        "colab": {
          "base_uri": "https://localhost:8080/"
        },
        "id": "Oku25L5IH_5S",
        "outputId": "91c3c030-60bf-484c-b3f2-4a4171b8d5a1"
      },
      "source": [
        "data = list(map(int, input().split()))\n",
        "# print(data)\n",
        "result = 'ascending'\n",
        "cnt = 1\n",
        "\n",
        "ascArr = []\n",
        "desArr = []\n",
        "for i in range(1, 9):\n",
        "  ascArr.append(i)\n",
        "  desArr.append(9-i)\n",
        "# print(ascArr, desArr)\n",
        "\n",
        "if data == ascArr:\n",
        "  result = 'ascending'\n",
        "elif data == desArr:\n",
        "  result = 'descending'\n",
        "else:\n",
        "  result = 'mixed'\n",
        "\n",
        "print(result)\n"
      ],
      "execution_count": null,
      "outputs": [
        {
          "output_type": "stream",
          "name": "stdout",
          "text": [
            "1 2 3 4 5 6 7 8\n",
            "ascending\n"
          ]
        }
      ]
    },
    {
      "cell_type": "markdown",
      "metadata": {
        "id": "L9emDusTNOOz"
      },
      "source": [
        "# 2798. 블랙잭"
      ]
    },
    {
      "cell_type": "code",
      "metadata": {
        "colab": {
          "base_uri": "https://localhost:8080/"
        },
        "id": "gv55tdHkNP-j",
        "outputId": "40a9752b-75f2-40b4-facc-4eb56fc2f8b0"
      },
      "source": [
        "N, M = map(int, input().split())\n",
        "cards = list(map(int, input().split()))\n",
        "result = 0\n",
        "\n",
        "for i in range(N):\n",
        "  for j in range(i+1, N):\n",
        "    for k in range(j+1, N):\n",
        "      sum = cards[i] + cards[j] + cards[k]\n",
        "      if sum <= M:\n",
        "        result = max(result, sum)\n",
        "\n",
        "print(result)"
      ],
      "execution_count": null,
      "outputs": [
        {
          "output_type": "stream",
          "name": "stdout",
          "text": [
            "5 21\n",
            "5 6 7 8 9\n",
            "21\n"
          ]
        }
      ]
    },
    {
      "cell_type": "markdown",
      "metadata": {
        "id": "N2muRixURFbB"
      },
      "source": [
        "# 1874. 스택 수열(실패)"
      ]
    },
    {
      "cell_type": "code",
      "metadata": {
        "colab": {
          "base_uri": "https://localhost:8080/",
          "height": 419
        },
        "id": "2hpITWxoRIuf",
        "outputId": "ee1fe60f-f89f-46b2-ca94-8e24db2e74ce"
      },
      "source": [
        "n = int(input())\n",
        "# print(n)\n",
        "nums = []\n",
        "for i in range(n):\n",
        "  nums.append(int(input()))\n",
        "# print(nums)\n",
        "\n",
        "stack = []\n",
        "result = []\n",
        "nowNum = 1\n",
        "flag = 0\n",
        "for num in nums:\n",
        "  # print(stack)\n",
        "  # print(nowNum)\n",
        "  if nowNum == n+2 and stack[-1] > num:\n",
        "    flag = 1\n",
        "    break\n",
        "\n",
        "  if len(stack) == 0:\n",
        "    while num >= nowNum:\n",
        "      stack.append(nowNum)\n",
        "      nowNum += 1\n",
        "      result.append('+')\n",
        "    stack.pop()\n",
        "    result.append('-')\n",
        "    print(nowNum)\n",
        "  else:\n",
        "    if num < stack[-1]:\n",
        "      while num <= stack[-1]:\n",
        "        stack.pop()\n",
        "        result.append('-')\n",
        "    else:\n",
        "      while num >= stack[-1]:\n",
        "        stack.append(nowNum)\n",
        "        nowNum += 1\n",
        "        result.append('+')\n",
        "      stack.pop()\n",
        "      result.append('-')\n",
        "\n",
        "if flag == 1:\n",
        "  print('NO')\n",
        "else:\n",
        "  print(result)\n"
      ],
      "execution_count": null,
      "outputs": [
        {
          "output_type": "stream",
          "name": "stdout",
          "text": [
            "5\n",
            "1\n",
            "2\n",
            "5\n",
            "3\n",
            "4\n",
            "2\n",
            "3\n",
            "6\n"
          ]
        },
        {
          "output_type": "error",
          "ename": "IndexError",
          "evalue": "ignored",
          "traceback": [
            "\u001b[0;31m---------------------------------------------------------------------------\u001b[0m",
            "\u001b[0;31mIndexError\u001b[0m                                Traceback (most recent call last)",
            "\u001b[0;32m<ipython-input-18-9c0318708ab9>\u001b[0m in \u001b[0;36m<module>\u001b[0;34m()\u001b[0m\n\u001b[1;32m     27\u001b[0m   \u001b[0;32melse\u001b[0m\u001b[0;34m:\u001b[0m\u001b[0;34m\u001b[0m\u001b[0;34m\u001b[0m\u001b[0m\n\u001b[1;32m     28\u001b[0m     \u001b[0;32mif\u001b[0m \u001b[0mnum\u001b[0m \u001b[0;34m-\u001b[0m \u001b[0mstack\u001b[0m\u001b[0;34m[\u001b[0m\u001b[0;34m-\u001b[0m\u001b[0;36m1\u001b[0m\u001b[0;34m]\u001b[0m \u001b[0;34m<\u001b[0m \u001b[0;36m0\u001b[0m\u001b[0;34m:\u001b[0m\u001b[0;34m\u001b[0m\u001b[0;34m\u001b[0m\u001b[0m\n\u001b[0;32m---> 29\u001b[0;31m       \u001b[0;32mwhile\u001b[0m \u001b[0mnum\u001b[0m \u001b[0;34m<=\u001b[0m \u001b[0mstack\u001b[0m\u001b[0;34m[\u001b[0m\u001b[0;34m-\u001b[0m\u001b[0;36m1\u001b[0m\u001b[0;34m]\u001b[0m\u001b[0;34m:\u001b[0m\u001b[0;34m\u001b[0m\u001b[0;34m\u001b[0m\u001b[0m\n\u001b[0m\u001b[1;32m     30\u001b[0m         \u001b[0mstack\u001b[0m\u001b[0;34m.\u001b[0m\u001b[0mpop\u001b[0m\u001b[0;34m(\u001b[0m\u001b[0;34m)\u001b[0m\u001b[0;34m\u001b[0m\u001b[0;34m\u001b[0m\u001b[0m\n\u001b[1;32m     31\u001b[0m         \u001b[0mresult\u001b[0m\u001b[0;34m.\u001b[0m\u001b[0mappend\u001b[0m\u001b[0;34m(\u001b[0m\u001b[0;34m'-'\u001b[0m\u001b[0;34m)\u001b[0m\u001b[0;34m\u001b[0m\u001b[0;34m\u001b[0m\u001b[0m\n",
            "\u001b[0;31mIndexError\u001b[0m: list index out of range"
          ]
        }
      ]
    },
    {
      "cell_type": "code",
      "metadata": {
        "colab": {
          "base_uri": "https://localhost:8080/"
        },
        "id": "HRgmz1FbgXUQ",
        "outputId": "6bbb7d84-ff58-4776-a845-28240b1c3e3f"
      },
      "source": [
        "# 정답\n",
        "n = int(input())\n",
        "\n",
        "count = 1\n",
        "stack = []\n",
        "result = []\n",
        "\n",
        "for i in range(1, n+1):\n",
        "  data = int(input())\n",
        "  while count <= data:\n",
        "    stack.append(count)\n",
        "    count += 1\n",
        "    result.append('+')\n",
        "  if stack[-1] == data:\n",
        "    stack.pop()\n",
        "    result.append('-')\n",
        "  else:\n",
        "    print('NO')\n",
        "    exit(0)\n",
        "    \n",
        "print('\\n'.join(result))"
      ],
      "execution_count": null,
      "outputs": [
        {
          "output_type": "stream",
          "name": "stdout",
          "text": [
            "5\n",
            "1\n",
            "2\n",
            "5\n",
            "3\n",
            "NO\n",
            "4\n",
            "+\n",
            "-\n",
            "+\n",
            "-\n",
            "+\n",
            "+\n",
            "+\n",
            "-\n",
            "-\n"
          ]
        }
      ]
    },
    {
      "cell_type": "markdown",
      "metadata": {
        "id": "VrQWGMq6FnC0"
      },
      "source": [
        "# 1966. 프린터 큐"
      ]
    },
    {
      "cell_type": "code",
      "metadata": {
        "colab": {
          "base_uri": "https://localhost:8080/"
        },
        "id": "3GDsx7OoGAaP",
        "outputId": "6baa5f84-3977-4dbc-8e53-312d54789d0e"
      },
      "source": [
        "t = int(input())\n",
        "\n",
        "for i in range(t):\n",
        "  n, m = map(int, input().split())\n",
        "  docs = list(map(int, input().split()))\n",
        "  orderArr = []\n",
        "  for j in range(n):\n",
        "    orderArr.append(j)\n",
        "  \n",
        "  cnt = 1\n",
        "  while len(docs) != 0:\n",
        "    \n",
        "    # print(cnt, docs)\n",
        "    if max(docs) == docs[0]:\n",
        "      if orderArr[0] == m:\n",
        "        print(cnt)\n",
        "        break\n",
        "      else:\n",
        "        docs.pop(0)\n",
        "        orderArr.pop(0)\n",
        "        cnt += 1\n",
        "    else:\n",
        "      docs.append(docs.pop(0))\n",
        "      orderArr.append(orderArr.pop(0))"
      ],
      "execution_count": null,
      "outputs": [
        {
          "output_type": "stream",
          "name": "stdout",
          "text": [
            "1\n",
            "6 0\n",
            "1 1 9 1 1 1\n",
            "1 [1, 1, 9, 1, 1, 1]\n",
            "1 [1, 9, 1, 1, 1, 1]\n",
            "1 [9, 1, 1, 1, 1, 1]\n",
            "2 [1, 1, 1, 1, 1]\n",
            "3 [1, 1, 1, 1]\n",
            "4 [1, 1, 1]\n",
            "5 [1, 1]\n",
            "5\n"
          ]
        }
      ]
    },
    {
      "cell_type": "markdown",
      "metadata": {
        "id": "SFQjQVcPJz42"
      },
      "source": [
        "# 5397. 키로거"
      ]
    },
    {
      "cell_type": "code",
      "metadata": {
        "colab": {
          "base_uri": "https://localhost:8080/"
        },
        "id": "PUAf2kHdJ199",
        "outputId": "6546fc63-c67c-4e3f-cae4-9b462713b274"
      },
      "source": [
        "t = int(input())\n",
        "\n",
        "for z in range(t):\n",
        "  cursor = 0\n",
        "  result = []\n",
        "  string = input()\n",
        "  for a in string:\n",
        "    # print(a, result)\n",
        "    if cursor == 0 and (a == '<' or a == '-'):\n",
        "      continue\n",
        "    if len(result) == cursor and a == '>':\n",
        "      continue\n",
        "\n",
        "    if a == '<':\n",
        "      cursor -= 1\n",
        "    elif a == '>':\n",
        "      cursor += 1\n",
        "    elif a == '-':\n",
        "      cursor -= 1\n",
        "      result.pop(cursor)\n",
        "    else:\n",
        "      result.insert(cursor, a)\n",
        "      cursor += 1\n",
        "\n",
        "  \n",
        "  print(''.join(result))"
      ],
      "execution_count": null,
      "outputs": [
        {
          "output_type": "stream",
          "name": "stdout",
          "text": [
            "1\n",
            "<<<a<b<c<d>-\n",
            "dba\n"
          ]
        }
      ]
    },
    {
      "cell_type": "code",
      "metadata": {
        "colab": {
          "base_uri": "https://localhost:8080/"
        },
        "id": "nWblfDoOTyeZ",
        "outputId": "5ff3758f-a2b0-4ad1-fc87-b72b971c7e4e"
      },
      "source": [
        "# 재도전\n",
        "t = int(input())\n",
        "\n",
        "for z in range(t):\n",
        "  stack1 = []\n",
        "  stack2 = []\n",
        "  string = input()\n",
        "  for a in string:\n",
        "    if len(stack1) == 0 and (a == '<' or a == '-'):\n",
        "      continue\n",
        "    if len(stack2) == 0 and a == '>':\n",
        "      continue\n",
        "\n",
        "    if a == '<':\n",
        "      stack2.append(stack1.pop())\n",
        "    elif a == '>':\n",
        "      stack1.append(stack2.pop())\n",
        "    elif a == '-':\n",
        "      stack1.pop()\n",
        "    else:\n",
        "      stack1.append(a)\n",
        "  \n",
        "  result1 = ''.join(stack1) if len(stack1) > 0 else ''\n",
        "  result2 = ''.join(reversed(stack2)) if len(stack2) > 0 else ''\n",
        "  print(result1 + result2)"
      ],
      "execution_count": null,
      "outputs": [
        {
          "output_type": "stream",
          "name": "stdout",
          "text": [
            "1\n",
            "<<BP<A->Cd--F>><<\n",
            "['B'] ['F', 'P']\n",
            "BPF\n"
          ]
        }
      ]
    },
    {
      "cell_type": "markdown",
      "metadata": {
        "id": "Umi5laHZkCNG"
      },
      "source": [
        "# 10930. SHA-256"
      ]
    },
    {
      "cell_type": "code",
      "metadata": {
        "colab": {
          "base_uri": "https://localhost:8080/"
        },
        "id": "bqVVoLnMkEVi",
        "outputId": "f29375ce-1082-4aee-9af4-e0b0db60009f"
      },
      "source": [
        "import hashlib\n",
        "\n",
        "S = input()\n",
        "print(hashlib.sha256(S.encode()).hexdigest())"
      ],
      "execution_count": null,
      "outputs": [
        {
          "output_type": "stream",
          "name": "stdout",
          "text": [
            "Baekjoon\n",
            "b'Baekjoon'\n",
            "9944e1862efbb2a4e2486392dc6701896416b251eccdecb8332deb7f4cf2a857\n"
          ]
        }
      ]
    },
    {
      "cell_type": "markdown",
      "metadata": {
        "id": "UGdBGEcElWji"
      },
      "source": [
        "# 1920. 수 찾기"
      ]
    },
    {
      "cell_type": "code",
      "metadata": {
        "colab": {
          "base_uri": "https://localhost:8080/"
        },
        "id": "T_n_lQwElaFd",
        "outputId": "0712a6db-abe2-439f-935e-9e5338157db9"
      },
      "source": [
        "  "
      ],
      "execution_count": null,
      "outputs": [
        {
          "output_type": "stream",
          "name": "stdout",
          "text": [
            "5\n",
            "4 1 5 2 3\n",
            "5\n",
            "1 3 7 9 5\n",
            "1\n",
            "1\n",
            "0\n",
            "0\n",
            "1\n"
          ]
        }
      ]
    },
    {
      "cell_type": "markdown",
      "metadata": {
        "id": "8QGsmJdnCiNo"
      },
      "source": [
        "# 4195. 친구 네트워크"
      ]
    },
    {
      "cell_type": "code",
      "metadata": {
        "colab": {
          "base_uri": "https://localhost:8080/"
        },
        "id": "7G-XhhY8ClfP",
        "outputId": "b7df8691-9c6f-4a6b-e137-a5e0cd8b8841"
      },
      "source": [
        "# 둘 중 한 명이라도 기존 집합에 포함되어 있다면, 짝궁 그 집합에 같이 집어넣어 주기\n",
        "# 둘 다 포함된 집합이 없다면, 집합 새로 만들어서 거기에 넣어주기\n",
        "t = int(input())\n",
        "for z in range(t):\n",
        "  setList = []\n",
        "  F = int(input())\n",
        "  for a in range(F):\n",
        "    name1, name2 = input().split()\n",
        "    # 둘 중 하나라도 포함된 집합이 있는지 검사\n",
        "    flag = 0 # 1 = name1 한 쪽에 걸려있는 상황 / 2 = name2 한 쪽에 걸려있는 상황\n",
        "    # print(setList)\n",
        "    saveIdx = 0\n",
        "    resultSet = {}\n",
        "    for idx, s in enumerate(setList):\n",
        "      # 추가 : 연쇄적인 경우\n",
        "      if (name1 in s) == True and flag == 2:\n",
        "        # print(resultSet, s)\n",
        "        resultSet = resultSet.union(s)\n",
        "        \n",
        "        setList.pop(saveIdx)\n",
        "        flag = 3\n",
        "        print(len(resultSet))\n",
        "        break\n",
        "      elif (name2 in s) == True and flag == 1:\n",
        "        # print(resultSet, s)\n",
        "        resultSet = resultSet.union(s)\n",
        "        setList.pop(saveIdx)\n",
        "        flag = 3\n",
        "        print(len(resultSet))\n",
        "        break\n",
        "      # 둘 중 한 명이라도 기존 집합에 포함되어 있다면, 짝궁 그 집합에 같이 집어넣어 주기\n",
        "      elif (name1 in s) == True and flag == 0:\n",
        "        s.add(name2)\n",
        "        flag = 1\n",
        "        saveIdx = idx\n",
        "        resultSet = s\n",
        "      elif (name2 in s) == True and flag == 0:\n",
        "        s.add(name1)\n",
        "        flag = 2\n",
        "        saveIdx = idx\n",
        "        resultSet = s\n",
        "      \n",
        "      if idx + 1 == len(setList) and flag != 0:\n",
        "        print(len(resultSet))\n",
        "\n",
        "    # 둘 다 포함된 집합이 없다면, 집합 새로 만들어서 거기에 넣어주기    \n",
        "    if flag == 0:\n",
        "      temp_s = {name1, name2}\n",
        "      setList.append(temp_s)\n",
        "      print(len(temp_s))"
      ],
      "execution_count": null,
      "outputs": [
        {
          "output_type": "stream",
          "name": "stdout",
          "text": [
            "1\n",
            "3\n",
            "Fred Barney\n",
            "2\n",
            "Barney Betty\n",
            "3\n",
            "Betty Wilma\n",
            "4\n"
          ]
        }
      ]
    },
    {
      "cell_type": "code",
      "metadata": {
        "colab": {
          "base_uri": "https://localhost:8080/"
        },
        "id": "IRAnPO3xOJbd",
        "outputId": "b00b449c-56cf-4024-e7f5-a18d4f3fc190"
      },
      "source": [
        "li = [{'Fred', 'Barney'}]\n",
        "for idx, s in enumerate(li):\n",
        "  name1 = 'Barney'\n",
        "  print(name1 in s)\n",
        "  if (name1 in s) == True:\n",
        "    print('exist')"
      ],
      "execution_count": null,
      "outputs": [
        {
          "output_type": "stream",
          "name": "stdout",
          "text": [
            "True\n",
            "exist\n"
          ]
        }
      ]
    },
    {
      "cell_type": "markdown",
      "metadata": {
        "id": "EeGYF936fCDP"
      },
      "source": [
        "실패. keyword = union-find"
      ]
    },
    {
      "cell_type": "code",
      "metadata": {
        "colab": {
          "base_uri": "https://localhost:8080/"
        },
        "id": "YVlRFzkifD9X",
        "outputId": "e5db9f8d-5aae-4735-a735-b1a83ba76ab6"
      },
      "source": [
        "def union(x, y):\n",
        "  x = find(x)\n",
        "  y = find(y)\n",
        "\n",
        "  if x!= y :\n",
        "    parent[y] = x\n",
        "    number[x] += number[y]\n",
        "\n",
        "def find(x):\n",
        "  if x == parent[x]:\n",
        "    return x\n",
        "  else:\n",
        "    p = find(parent[x])\n",
        "    parent[x] = p\n",
        "    return parent[x]\n",
        "\n",
        "test_case = int(input())\n",
        "for _ in range(test_case):\n",
        "  parent = dict()\n",
        "  number = dict()\n",
        "\n",
        "  f = int(input())\n",
        "\n",
        "  for _ in range(f):\n",
        "    x, y = input().split()\n",
        "    if x not in parent:\n",
        "      parent[x] = x\n",
        "      number[x] = 1\n",
        "    if y not in parent:\n",
        "      parent[y] = y\n",
        "      number[y] = 1\n",
        "\n",
        "    union(x, y)\n",
        "    print(number[find(x)])"
      ],
      "execution_count": null,
      "outputs": [
        {
          "output_type": "stream",
          "name": "stdout",
          "text": [
            "1\n",
            "3\n",
            "Fred Barney\n",
            "2\n",
            "Betty Wilma\n",
            "2\n",
            "Barney Betty\n",
            "4\n"
          ]
        }
      ]
    },
    {
      "cell_type": "markdown",
      "metadata": {
        "id": "DK6Bi3CCblhl"
      },
      "source": [
        "# 2750. 수 정렬하기"
      ]
    },
    {
      "cell_type": "code",
      "metadata": {
        "colab": {
          "base_uri": "https://localhost:8080/"
        },
        "id": "PZHPMwt4bnEX",
        "outputId": "c643075a-1eea-4d17-8da2-1ed6567ff18f"
      },
      "source": [
        "N = int(input())\n",
        "nums = []\n",
        "for _ in range(N):\n",
        "  nums.append(int(input()))\n",
        "nums = sorted(nums)\n",
        "for num in nums:\n",
        "  print(num)"
      ],
      "execution_count": null,
      "outputs": [
        {
          "output_type": "stream",
          "name": "stdout",
          "text": [
            "5\n",
            "5\n",
            "2\n",
            "3\n",
            "4\n",
            "1\n",
            "1\n",
            "2\n",
            "3\n",
            "4\n",
            "5\n"
          ]
        }
      ]
    },
    {
      "cell_type": "code",
      "metadata": {
        "colab": {
          "base_uri": "https://localhost:8080/"
        },
        "id": "s9DV7PnfcxaN",
        "outputId": "64caabd4-4604-4ee1-c1f1-425040602574"
      },
      "source": [
        "# 선택정렬\n",
        "N = int(input())\n",
        "nums = []\n",
        "for _ in range(N):\n",
        "  nums.append(int(input()))\n",
        "\n",
        "for i in range(N):\n",
        "  min_index = i\n",
        "  for j in range(i+1, N):\n",
        "    if nums[min_index] > nums[j]:\n",
        "      min_index = j\n",
        "  nums[i], nums[min_index] = nums[min_index], nums[i]\n",
        "\n",
        "for num in nums:\n",
        "  print(num)"
      ],
      "execution_count": null,
      "outputs": [
        {
          "output_type": "stream",
          "name": "stdout",
          "text": [
            "5\n",
            "5\n",
            "2\n",
            "3\n",
            "4\n",
            "1\n",
            "1\n",
            "2\n",
            "3\n",
            "4\n",
            "5\n"
          ]
        }
      ]
    },
    {
      "cell_type": "markdown",
      "metadata": {
        "id": "3MW2lHePcxEd"
      },
      "source": [
        ""
      ]
    },
    {
      "cell_type": "markdown",
      "metadata": {
        "id": "pqaD64NRemAe"
      },
      "source": [
        "# 1427. 소트인사이드"
      ]
    },
    {
      "cell_type": "code",
      "metadata": {
        "colab": {
          "base_uri": "https://localhost:8080/"
        },
        "id": "r__iPh96ents",
        "outputId": "d735221f-d479-482f-bb90-d87b5b5c18c5"
      },
      "source": [
        "numStr = input()\n",
        "nums = list()\n",
        "\n",
        "for ns in numStr:\n",
        "  nums.append(int(ns))\n",
        "\n",
        "for i in range(len(nums)):\n",
        "  max_index = i\n",
        "  for j in range(i+1, len(nums)):\n",
        "    if nums[max_index] < nums[j]:\n",
        "      max_index = j\n",
        "  nums[max_index], nums[i] = nums[i], nums[max_index]\n",
        "\n",
        "for num in nums:\n",
        "  print(num, end='')"
      ],
      "execution_count": null,
      "outputs": [
        {
          "output_type": "stream",
          "name": "stdout",
          "text": [
            "2143\n",
            "4321"
          ]
        }
      ]
    },
    {
      "cell_type": "markdown",
      "metadata": {
        "id": "zMcBVagZg28Z"
      },
      "source": [
        ""
      ]
    },
    {
      "cell_type": "code",
      "metadata": {
        "colab": {
          "base_uri": "https://localhost:8080/"
        },
        "id": "YuVDS6FLg4aV",
        "outputId": "0fe14ac3-d3f7-4fdb-97d9-d378809dee1d"
      },
      "source": [
        "# 따로 숫자로 바꾸고 할거 없이, 거꾸로 돌면서 개숫 세는 방법\n",
        "\n",
        "array = input()\n",
        "for i in range(9, -1, -1):\n",
        "  for j in array:\n",
        "    if int(j) == i:\n",
        "      print(i, end = '')"
      ],
      "execution_count": null,
      "outputs": [
        {
          "output_type": "stream",
          "name": "stdout",
          "text": [
            "2143\n",
            "4321"
          ]
        }
      ]
    }
  ]
}