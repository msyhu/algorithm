{
  "nbformat": 4,
  "nbformat_minor": 0,
  "metadata": {
    "colab": {
      "name": "0 만들기.ipynb",
      "provenance": [],
      "authorship_tag": "ABX9TyOa1CxRvWUPQULULDW5KpDl",
      "include_colab_link": true
    },
    "kernelspec": {
      "name": "python3",
      "display_name": "Python 3"
    },
    "language_info": {
      "name": "python"
    }
  },
  "cells": [
    {
      "cell_type": "markdown",
      "metadata": {
        "id": "view-in-github",
        "colab_type": "text"
      },
      "source": [
        "<a href=\"https://colab.research.google.com/github/msyhu/algorithm/blob/master/0_%EB%A7%8C%EB%93%A4%EA%B8%B0.ipynb\" target=\"_parent\"><img src=\"https://colab.research.google.com/assets/colab-badge.svg\" alt=\"Open In Colab\"/></a>"
      ]
    },
    {
      "cell_type": "code",
      "metadata": {
        "colab": {
          "base_uri": "https://localhost:8080/"
        },
        "id": "3WTSiLI0u9YX",
        "outputId": "1d42fa49-a451-4b72-fe1c-7724f43b14ae"
      },
      "source": [
        "def calculate(s):\n",
        "  numArr = []\n",
        "  operatorArr = []\n",
        "  # 공백 있으면 하나로 합쳐준다.\n",
        "  for a in s:\n",
        "    if a == '+' or a == '-' or a == ' ':\n",
        "      operatorArr.append(a)\n",
        "    else:\n",
        "      numArr.append(int(a))\n",
        "  \n",
        "  # realNumArr = []\n",
        "  realOperArr = []\n",
        "  while len(operatorArr) > 0 :\n",
        "    oper = operatorArr.pop(0)\n",
        "    if oper != ' ':\n",
        "      num = numArr.pop(0)\n",
        "      numArr.append(num)\n",
        "      realOperArr.append(oper)\n",
        "    else:\n",
        "      num1 = numArr.pop(0)\n",
        "      num2 = numArr.pop(0)\n",
        "      numArr.append(int(str(num1) + str(num2)))\n",
        "\n",
        "    numArr.append(numArr.pop(0))\n",
        "    print(numArr, realOperArr)\n",
        "\n",
        "  # 그 다음 앞에서부터 계산\n",
        "  # result = numArr.pop(0)\n",
        "  # while len(operatorArr) > 0:\n",
        "    \n",
        "\n",
        "\n",
        "def recursive(n, s, num):\n",
        "  # 끝에 도달했을 경우\n",
        "  if num == n+1:\n",
        "    calculate(s)\n",
        "    return\n",
        "\n",
        "  # 숫자 붙여야할 경우\n",
        "  if s[-1] == '+' or s[-1] == '-' or s[-1] == ' ': \n",
        "    recursive(n, s + str(num), num+1)\n",
        "\n",
        "  # 연산자 붙여야할 경우\n",
        "  if s[-1] != '+' and s[-1] != '-' and s[-1] != ' ':\n",
        "    recursive(n, s + '+', num)\n",
        "    recursive(n, s + '-', num)\n",
        "    recursive(n, s + ' ', num)\n",
        "\n",
        "t = int(input())\n",
        "for _ in range(t):\n",
        "  n = int(input())\n",
        "  recursive(n, '1', 2)\n",
        "\n"
      ],
      "execution_count": 35,
      "outputs": [
        {
          "output_type": "stream",
          "name": "stdout",
          "text": [
            "1\n",
            "3\n",
            "[3, 1, 2] ['+']\n",
            "[2, 3, 1] ['+', '+']\n",
            "[3, 1, 2] ['+']\n",
            "[2, 3, 1] ['+', '-']\n",
            "[3, 1, 2] ['+']\n",
            "[31, 2] ['+']\n",
            "[3, 1, 2] ['-']\n",
            "[2, 3, 1] ['-', '+']\n",
            "[3, 1, 2] ['-']\n",
            "[2, 3, 1] ['-', '-']\n",
            "[3, 1, 2] ['-']\n",
            "[31, 2] ['-']\n",
            "[12, 3] []\n",
            "[12, 3] ['+']\n",
            "[12, 3] []\n",
            "[12, 3] ['-']\n",
            "[12, 3] []\n",
            "[123] []\n"
          ]
        }
      ]
    },
    {
      "cell_type": "code",
      "metadata": {
        "colab": {
          "base_uri": "https://localhost:8080/"
        },
        "id": "OrlX0R5BxFCR",
        "outputId": "9eb7ac84-09a6-4750-8f13-5b8669501607"
      },
      "source": [
        "a = 'def'\n",
        "a += '2'\n",
        "print(a)\n",
        "b = a\n",
        "b += str(1)\n",
        "print(int(a[-1]))\n",
        "print(b)\n",
        "\n",
        "c = '1'\n",
        "print(c[-1])"
      ],
      "execution_count": 14,
      "outputs": [
        {
          "output_type": "stream",
          "name": "stdout",
          "text": [
            "def2\n",
            "2\n",
            "def21\n",
            "1\n"
          ]
        }
      ]
    },
    {
      "cell_type": "markdown",
      "metadata": {
        "id": "YFb4lojhCwuF"
      },
      "source": [
        "1차 시도 실패했다. 그 이유는 공백을 처리해주지 못해서인데, 힌트 보니까 공백을 그냥 replace로 없애줘서 해버렸다. WTF"
      ]
    },
    {
      "cell_type": "code",
      "metadata": {
        "colab": {
          "base_uri": "https://localhost:8080/"
        },
        "id": "SWMjFQScC4Px",
        "outputId": "3e1c2d78-76bf-447b-c4f4-f3890f3d0ed4"
      },
      "source": [
        "def calculate(result, s):\n",
        "  origin = s\n",
        "  s = s.replace(' ', '')\n",
        "\n",
        "  # for 문으로 하나씩 돌면서 계산해줘도 되지만, 파이썬에는 eval 함수가 있어서 걔 쓰면 계산을 알아서 해 주는 놈이라고 한다.\n",
        "  if eval(s) == 0:\n",
        "    result.append(origin)\n",
        "    \n",
        "def recursive(result, n, s, num):\n",
        "  # 끝에 도달했을 경우\n",
        "  if num == n+1:\n",
        "    calculate(result, s)\n",
        "    return\n",
        "\n",
        "  # 숫자 붙여야할 경우\n",
        "  if s[-1] == '+' or s[-1] == '-' or s[-1] == ' ': \n",
        "    recursive(result, n, s + str(num), num+1)\n",
        "\n",
        "  # 연산자 붙여야할 경우\n",
        "  if s[-1] != '+' and s[-1] != '-' and s[-1] != ' ':\n",
        "    recursive(result, n, s + '+', num)\n",
        "    recursive(result, n, s + '-', num)\n",
        "    recursive(result, n, s + ' ', num)\n",
        "\n",
        "t = int(input())\n",
        "for _ in range(t):\n",
        "  n = int(input())\n",
        "  result = []\n",
        "  recursive(result, n, '1', 2)\n",
        "  result = sorted(result)\n",
        "  for i in result:\n",
        "    print(i)\n",
        "  print()\n",
        "\n"
      ],
      "execution_count": 50,
      "outputs": [
        {
          "output_type": "stream",
          "name": "stdout",
          "text": [
            "2\n",
            "3\n",
            "1+2-3\n",
            "\n",
            "7\n",
            "1+2-3+4-5-6+7\n",
            "1+2-3-4+5+6-7\n",
            "1-2 3+4+5+6+7\n",
            "1-2 3-4 5+6 7\n",
            "1-2+3+4-5+6-7\n",
            "1-2-3-4-5+6+7\n",
            "\n"
          ]
        }
      ]
    },
    {
      "cell_type": "markdown",
      "metadata": {
        "id": "XdgXEh5xEyNx"
      },
      "source": [
        "# 배운 것\n",
        "- 파이썬에서 함수로 문자열 넘기면 알아서 복사되어서 넘어간다.\n",
        "- replace로 공백 없애는 아이디어."
      ]
    },
    {
      "cell_type": "code",
      "metadata": {
        "id": "dC2pcafOE5gU"
      },
      "source": [
        ""
      ],
      "execution_count": null,
      "outputs": []
    }
  ]
}