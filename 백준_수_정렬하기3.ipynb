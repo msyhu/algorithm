{
  "nbformat": 4,
  "nbformat_minor": 0,
  "metadata": {
    "colab": {
      "name": "백준_수 정렬하기3.ipynb",
      "provenance": [],
      "authorship_tag": "ABX9TyMWq8DHXin/Ha8WGe+lDEXl",
      "include_colab_link": true
    },
    "kernelspec": {
      "name": "python3",
      "display_name": "Python 3"
    },
    "language_info": {
      "name": "python"
    }
  },
  "cells": [
    {
      "cell_type": "markdown",
      "metadata": {
        "id": "view-in-github",
        "colab_type": "text"
      },
      "source": [
        "<a href=\"https://colab.research.google.com/github/msyhu/algorithm/blob/master/%EB%B0%B1%EC%A4%80_%EC%88%98_%EC%A0%95%EB%A0%AC%ED%95%98%EA%B8%B03.ipynb\" target=\"_parent\"><img src=\"https://colab.research.google.com/assets/colab-badge.svg\" alt=\"Open In Colab\"/></a>"
      ]
    },
    {
      "cell_type": "code",
      "metadata": {
        "colab": {
          "base_uri": "https://localhost:8080/"
        },
        "id": "Ee_XpuPVIceF",
        "outputId": "76039bc0-772c-437a-8a1d-cd446409a759"
      },
      "source": [
        "N = int(input())\n",
        "li = list()\n",
        "for _ in range(N):\n",
        "  li.append(int(input()))\n",
        "\n",
        "li = sorted(li)\n",
        "for n in li:\n",
        "  print(n)"
      ],
      "execution_count": 1,
      "outputs": [
        {
          "output_type": "stream",
          "name": "stdout",
          "text": [
            "4\n",
            "3\n",
            "4\n",
            "2\n",
            "1\n",
            "1\n",
            "2\n",
            "3\n",
            "4\n"
          ]
        }
      ]
    },
    {
      "cell_type": "code",
      "metadata": {
        "colab": {
          "base_uri": "https://localhost:8080/"
        },
        "id": "HG4w2WQ2Jd9A",
        "outputId": "97de1902-370a-4497-9c31-be9a063d9827"
      },
      "source": [
        "N = int(input())\n",
        "arr = [0] * 10001\n",
        "for _ in range(N):\n",
        "  arr[int(input())] += 1\n",
        "\n",
        "result = []\n",
        "for idx, n in enumerate(arr):\n",
        "  if n > 0:\n",
        "    result.append((idx, n))\n",
        "\n",
        "for r in result:\n",
        "  for j in range(r[1]):\n",
        "    print(r[0])"
      ],
      "execution_count": 5,
      "outputs": [
        {
          "output_type": "stream",
          "name": "stdout",
          "text": [
            "10\n",
            "5\n",
            "2\n",
            "3\n",
            "1\n",
            "4\n",
            "2\n",
            "3\n",
            "5\n",
            "1\n",
            "7\n",
            "1\n",
            "1\n",
            "2\n",
            "2\n",
            "3\n",
            "3\n",
            "4\n",
            "5\n",
            "5\n",
            "7\n"
          ]
        }
      ]
    },
    {
      "cell_type": "code",
      "metadata": {
        "colab": {
          "base_uri": "https://localhost:8080/",
          "height": 232
        },
        "id": "CO4nzUDdN7FP",
        "outputId": "3f33325c-397e-4f73-a8cf-99226c93cda7"
      },
      "source": [
        "import sys\n",
        "N = int(sys.stdin.readline())\n",
        "arr = [0] * 10001\n",
        "for _ in range(N):\n",
        "  arr[int(sys.stdin.readline())] += 1\n",
        "\n",
        "result = []\n",
        "for idx, n in enumerate(arr):\n",
        "  if n > 0:\n",
        "    result.append((idx, n))\n",
        "\n",
        "for r in result:\n",
        "  for j in range(r[1]):\n",
        "    print(r[0])"
      ],
      "execution_count": 8,
      "outputs": [
        {
          "output_type": "error",
          "ename": "ValueError",
          "evalue": "ignored",
          "traceback": [
            "\u001b[0;31m---------------------------------------------------------------------------\u001b[0m",
            "\u001b[0;31mValueError\u001b[0m                                Traceback (most recent call last)",
            "\u001b[0;32m<ipython-input-8-4cd0a0c700a4>\u001b[0m in \u001b[0;36m<module>\u001b[0;34m()\u001b[0m\n\u001b[1;32m      1\u001b[0m \u001b[0;32mimport\u001b[0m \u001b[0msys\u001b[0m\u001b[0;34m\u001b[0m\u001b[0;34m\u001b[0m\u001b[0m\n\u001b[0;32m----> 2\u001b[0;31m \u001b[0mN\u001b[0m \u001b[0;34m=\u001b[0m \u001b[0mint\u001b[0m\u001b[0;34m(\u001b[0m\u001b[0msys\u001b[0m\u001b[0;34m.\u001b[0m\u001b[0mstdin\u001b[0m\u001b[0;34m.\u001b[0m\u001b[0mreadline\u001b[0m\u001b[0;34m(\u001b[0m\u001b[0;34m)\u001b[0m\u001b[0;34m)\u001b[0m\u001b[0;34m\u001b[0m\u001b[0;34m\u001b[0m\u001b[0m\n\u001b[0m\u001b[1;32m      3\u001b[0m \u001b[0marr\u001b[0m \u001b[0;34m=\u001b[0m \u001b[0;34m[\u001b[0m\u001b[0;36m0\u001b[0m\u001b[0;34m]\u001b[0m \u001b[0;34m*\u001b[0m \u001b[0;36m10001\u001b[0m\u001b[0;34m\u001b[0m\u001b[0;34m\u001b[0m\u001b[0m\n\u001b[1;32m      4\u001b[0m \u001b[0;32mfor\u001b[0m \u001b[0m_\u001b[0m \u001b[0;32min\u001b[0m \u001b[0mrange\u001b[0m\u001b[0;34m(\u001b[0m\u001b[0mN\u001b[0m\u001b[0;34m)\u001b[0m\u001b[0;34m:\u001b[0m\u001b[0;34m\u001b[0m\u001b[0;34m\u001b[0m\u001b[0m\n\u001b[1;32m      5\u001b[0m   \u001b[0marr\u001b[0m\u001b[0;34m[\u001b[0m\u001b[0mint\u001b[0m\u001b[0;34m(\u001b[0m\u001b[0msys\u001b[0m\u001b[0;34m.\u001b[0m\u001b[0mstdin\u001b[0m\u001b[0;34m.\u001b[0m\u001b[0mreadline\u001b[0m\u001b[0;34m(\u001b[0m\u001b[0;34m)\u001b[0m\u001b[0;34m)\u001b[0m\u001b[0;34m]\u001b[0m \u001b[0;34m+=\u001b[0m \u001b[0;36m1\u001b[0m\u001b[0;34m\u001b[0m\u001b[0;34m\u001b[0m\u001b[0m\n",
            "\u001b[0;31mValueError\u001b[0m: invalid literal for int() with base 10: ''"
          ]
        }
      ]
    },
    {
      "cell_type": "markdown",
      "metadata": {
        "id": "dRQJXNqPN6oe"
      },
      "source": [
        "실패. 이 문제의 핵심은 계수 정렬이다.\n",
        "숫자 범위가 작을 때 쓸수 있는 방법인데, 배열의 인덱스를 key로 해당 key가 몇 개가 있는지 세주는 방법이다.\n",
        "\n",
        "이거까지는 생각했다.\n",
        "그런데 input이 많을 때는(여기선 1000만) input() 대신 sys.stdin.readline()을 써 줘야 한다고 한다. 여기서도 이거 바꾸니 성공. 그런데 colab에서는 사용이 안 된다.."
      ]
    },
    {
      "cell_type": "code",
      "metadata": {
        "id": "IjcseEe1Oz87"
      },
      "source": [
        ""
      ],
      "execution_count": null,
      "outputs": []
    }
  ]
}